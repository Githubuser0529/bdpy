{
 "cells": [
  {
   "cell_type": "markdown",
   "metadata": {},
   "source": [
    "# Examples for loading fmriprep results\n",
    "\n",
    "This notebook provides some examples for creating BData from outputs of [fmriprep](https://fmriprep.readthedocs.io/en/stable/usage.html).\n",
    "\n",
    "- fmriprep >= 1.2 is recommended\n",
    "- fmriprep should produce data in the following four spaces (this requirement will be relaxed in the future update):\n",
    "    - Volume in the subject anatomical reference space ('T1w')\n",
    "    - Volume in the standard space ('template')\n",
    "    - Surface on the subject individual surface ('fsnative')\n",
    "    - Surface on fsaverage ('fsaverage')\n"
   ]
  },
  {
   "cell_type": "markdown",
   "metadata": {},
   "source": [
    "Currently, the example data are only available for Kamitani Lab members due to privacy policy. We're going to preprare example data from public datasets.\n",
    "\n",
    "To Kamitani Lab members: you can find the example data at `/home/aoki/work/bdpy/examples/data`."
   ]
  },
  {
   "cell_type": "code",
   "execution_count": null,
   "metadata": {
    "collapsed": true
   },
   "outputs": [],
   "source": [
    "import bdpy\n",
    "from bdpy.mri.fmriprep import create_bdata_fmriprep"
   ]
  },
  {
   "cell_type": "markdown",
   "metadata": {},
   "source": [
    "## Create BData from fmriprep results"
   ]
  },
  {
   "cell_type": "code",
   "execution_count": null,
   "metadata": {
    "collapsed": true
   },
   "outputs": [],
   "source": [
    "help(create_bdata_fmriprep)"
   ]
  },
  {
   "cell_type": "markdown",
   "metadata": {},
   "source": [
    "`create_bdata_fmriprep` takes three arguments (one positional and two keyword args).\n",
    "    \n",
    "- Path to the BIDS root directory.\n",
    "- `data_mode`: the data to be extracted from fmriprep outputs ('volume_native', 'volume_standard', 'surface_native', or 'surface_standard').\n",
    "- `label_mapper`: a dictionary specifying tables to convert non-numerical values in task event files into numbers."
   ]
  },
  {
   "cell_type": "code",
   "execution_count": null,
   "metadata": {},
   "outputs": [],
   "source": [
    "# Volume, subject native space\n",
    "dat_vol_native = create_bdata_fmriprep('data/fmriprep-1.2/SB181112/bids/',\n",
    "                                       data_mode='volume_native',\n",
    "                                       label_mapper={'stimulus_name' : 'data/stim_test.tsv'})"
   ]
  },
  {
   "cell_type": "code",
   "execution_count": null,
   "metadata": {},
   "outputs": [],
   "source": [
    "# Volume, standard space (MNI)\n",
    "dat_vol_standard = create_bdata_fmriprep('data/fmriprep-1.2/SB181112/bids/',\n",
    "                                         data_mode='volume_standard',\n",
    "                                         label_mapper={'stimulus_name' : 'data/stim_test.tsv'})"
   ]
  },
  {
   "cell_type": "code",
   "execution_count": null,
   "metadata": {},
   "outputs": [],
   "source": [
    "# Surface on subject native\n",
    "dat_surf_native = create_bdata_fmriprep('data/fmriprep-1.2/SB181112/bids/',\n",
    "                                        data_mode='surface_native',\n",
    "                                        label_mapper={'stimulus_name' : 'data/stim_test.tsv'})"
   ]
  },
  {
   "cell_type": "code",
   "execution_count": null,
   "metadata": {},
   "outputs": [],
   "source": [
    "# Surface on fsaverage\n",
    "dat_surf_standard = create_bdata_fmriprep('data/fmriprep-1.2/SB181112/bids/',\n",
    "                                         data_mode='surface_standard',\n",
    "                                         label_mapper={'stimulus_name' : 'data/stim_test.tsv'})"
   ]
  },
  {
   "cell_type": "markdown",
   "metadata": {},
   "source": [
    "## Playground"
   ]
  },
  {
   "cell_type": "code",
   "execution_count": null,
   "metadata": {},
   "outputs": [],
   "source": [
    "# Check data size\n",
    "print(dat_vol_native.dataset.shape)\n",
    "#print(dat_vol_standard.dataset.shape)\n",
    "print(dat_surf_native.dataset.shape)\n",
    "#print(dat_surf_standard.dataset.shape)"
   ]
  },
  {
   "cell_type": "code",
   "execution_count": null,
   "metadata": {},
   "outputs": [],
   "source": [
    "# Get left surface (vertices)\n",
    "data = dat_surf_native.get('VertexLeft')\n",
    "data.shape\n",
    "#dat_surf_native.get_metadata('vertex_index', where='VertexLeft')"
   ]
  },
  {
   "cell_type": "markdown",
   "metadata": {},
   "source": [
    "## Adding ROIs"
   ]
  },
  {
   "cell_type": "code",
   "execution_count": null,
   "metadata": {
    "collapsed": true
   },
   "outputs": [],
   "source": [
    "# Volume data\n",
    "#from bdpy.mri import add_roimask\n",
    "\n",
    "#TBA"
   ]
  },
  {
   "cell_type": "code",
   "execution_count": null,
   "metadata": {},
   "outputs": [],
   "source": [
    "# Individual surface\n",
    "\n",
    "from bdpy.mri import add_roilabel\n",
    "\n",
    "surf_label_dir = './data/anatomy/SB181112/nifti/roi/roi_label/hcp180'\n",
    "\n",
    "label_files = [(os.path.join(surf_label_dir, 'lh.L_V1_ROI.label'), 'left'),\n",
    "               (os.path.join(surf_label_dir, 'rh.R_V1_ROI.label'), 'right')]\n",
    "\n",
    "for label in label_files:\n",
    "    label_file = label[0]  # Label file\n",
    "    label_hemi = label[1]  # Left or right\n",
    "\n",
    "    if label_hemi == 'left':\n",
    "        vertex_data = 'VertexLeft'\n",
    "    elif label_hemi == 'right':\n",
    "        vertex_data = 'VertexRight'\n",
    "    else:\n",
    "        raise ValueError('Unknown hemi: %s' % label_hemi)\n",
    "    \n",
    "    bdata = add_roilabel(dat_surf_native, label_file, vertex_data, prefix='hcp180', verbose=True)"
   ]
  },
  {
   "cell_type": "code",
   "execution_count": null,
   "metadata": {},
   "outputs": [],
   "source": [
    "dat_surf_native.get('hcp180_rh.R_V1_ROI').shape"
   ]
  },
  {
   "cell_type": "code",
   "execution_count": null,
   "metadata": {},
   "outputs": [],
   "source": [
    "# Standard surface (fsaverage)\n",
    "\n",
    "from bdpy.mri import add_roilabel\n",
    "import nibabel.freesurfer\n",
    "\n",
    "fs_subjects_dir = os.environ['SUBJECTS_DIR']  # FreeSurfer subjects directory\n",
    "\n",
    "surf_label_dir = os.path.join(fs_subjects_dir, 'fsaverage', 'label')  # Take labels from fsaverage\n",
    "\n",
    "label_files = [(os.path.join(surf_label_dir, 'lh.aparc.a2009s.annot'), 'left'),\n",
    "               (os.path.join(surf_label_dir, 'rh.aparc.a2009s.annot'), 'right')] # Destrieux atlas\n",
    "\n",
    "for label in label_files:\n",
    "    label_file = label[0]  # Label file\n",
    "    label_hemi = label[1]  # Left or right\n",
    "\n",
    "    if label_hemi == 'left':\n",
    "        vertex_data = 'VertexLeft'\n",
    "    elif label_hemi == 'right':\n",
    "        vertex_data = 'VertexRight'\n",
    "    else:\n",
    "        raise ValueError('Unknown hemi: %s' % label_hemi)\n",
    "\n",
    "    bdata = add_roilabel(dat_surf_standard, label_file, vertex_data, prefix='freesurfer_destrieux', verbose=True)"
   ]
  },
  {
   "cell_type": "code",
   "execution_count": null,
   "metadata": {},
   "outputs": [],
   "source": [
    "bdata.get('freesurfer_destrieux_lh.G_and_S_frontomargin').shape"
   ]
  }
 ],
 "metadata": {
  "kernelspec": {
   "display_name": "Python 2",
   "language": "python",
   "name": "python2"
  },
  "language_info": {
   "codemirror_mode": {
    "name": "ipython",
    "version": 2
   },
   "file_extension": ".py",
   "mimetype": "text/x-python",
   "name": "python",
   "nbconvert_exporter": "python",
   "pygments_lexer": "ipython2",
   "version": "2.7.13"
  }
 },
 "nbformat": 4,
 "nbformat_minor": 2
}
